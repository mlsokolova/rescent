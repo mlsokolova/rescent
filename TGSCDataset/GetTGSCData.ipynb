{
 "cells": [
  {
   "cell_type": "code",
   "execution_count": 1,
   "metadata": {
    "collapsed": true
   },
   "outputs": [],
   "source": [
    "datafolder = './'\n",
    "filename = datafolder + 'TGSCData.json'"
   ]
  },
  {
   "cell_type": "code",
   "execution_count": 2,
   "metadata": {
    "collapsed": false
   },
   "outputs": [],
   "source": [
    "from urllib3 import PoolManager\n",
    "from lxml import etree\n",
    "#http = PoolManager()\n",
    "\n",
    "def get_source_page(url):\n",
    "    http = PoolManager()\n",
    "    response = http.request('GET',url)\n",
    "    source_page = response.read()\n",
    "    return source_page"
   ]
  },
  {
   "cell_type": "code",
   "execution_count": 3,
   "metadata": {
    "collapsed": false
   },
   "outputs": [],
   "source": [
    "url = 'http://www.thegoodscentscompany.com/fragonly-a.html'\n",
    "http = PoolManager()\n",
    "parser = etree.HTMLParser()\n",
    "alpha_urls = []\n",
    "\n",
    "with http.urlopen('GET',url, preload_content=False) as f:\n",
    "     tree = etree.parse(f, parser)\n",
    "\n",
    "for x in tree.getroot().xpath(\"//div[@class='alphaENIC1']\"):#.find_class('alphaENIC1')\n",
    "    for y in x.getiterator():\n",
    "        if y.attrib.has_key('href'):\n",
    "            alpha_urls.append(y.attrib.get('href'))\n",
    "            "
   ]
  },
  {
   "cell_type": "code",
   "execution_count": 6,
   "metadata": {
    "collapsed": false
   },
   "outputs": [],
   "source": [
    "from collections import OrderedDict\n",
    "alpha_urls = list(OrderedDict.fromkeys(alpha_urls))"
   ]
  },
  {
   "cell_type": "code",
   "execution_count": 7,
   "metadata": {
    "collapsed": false
   },
   "outputs": [
    {
     "data": {
      "text/plain": [
       "['http://www.thegoodscentscompany.com/fragonly-a.html',\n",
       " 'http://www.thegoodscentscompany.com/fragonly-b.html',\n",
       " 'http://www.thegoodscentscompany.com/fragonly-c.html',\n",
       " 'http://www.thegoodscentscompany.com/fragonly-d.html',\n",
       " 'http://www.thegoodscentscompany.com/fragonly-e.html',\n",
       " 'http://www.thegoodscentscompany.com/fragonly-f.html',\n",
       " 'http://www.thegoodscentscompany.com/fragonly-g.html',\n",
       " 'http://www.thegoodscentscompany.com/fragonly-h.html',\n",
       " 'http://www.thegoodscentscompany.com/fragonly-i.html',\n",
       " 'http://www.thegoodscentscompany.com/fragonly-jk.html',\n",
       " 'http://www.thegoodscentscompany.com/fragonly-l.html',\n",
       " 'http://www.thegoodscentscompany.com/fragonly-m.html',\n",
       " 'http://www.thegoodscentscompany.com/fragonly-n.html',\n",
       " 'http://www.thegoodscentscompany.com/fragonly-o.html',\n",
       " 'http://www.thegoodscentscompany.com/fragonly-p.html',\n",
       " 'http://www.thegoodscentscompany.com/fragonly-q.html',\n",
       " 'http://www.thegoodscentscompany.com/fragonly-r.html',\n",
       " 'http://www.thegoodscentscompany.com/fragonly-s.html',\n",
       " 'http://www.thegoodscentscompany.com/fragonly-t.html',\n",
       " 'http://www.thegoodscentscompany.com/fragonly-u.html',\n",
       " 'http://www.thegoodscentscompany.com/fragonly-v.html',\n",
       " 'http://www.thegoodscentscompany.com/fragonly-wx.html',\n",
       " 'http://www.thegoodscentscompany.com/fragonly-y.html',\n",
       " 'http://www.thegoodscentscompany.com/fragonly-z.html']"
      ]
     },
     "execution_count": 7,
     "metadata": {},
     "output_type": "execute_result"
    }
   ],
   "source": [
    "alpha_urls"
   ]
  },
  {
   "cell_type": "code",
   "execution_count": 8,
   "metadata": {
    "collapsed": true
   },
   "outputs": [],
   "source": [
    "def get_xhtml(url,pool):\n",
    "    with pool.urlopen('GET',url, preload_content=False) as f:\n",
    "        tree = etree.parse(f, parser)\n",
    "    return tree"
   ]
  },
  {
   "cell_type": "code",
   "execution_count": 9,
   "metadata": {
    "collapsed": false
   },
   "outputs": [],
   "source": [
    "def clean_string(txt):\n",
    "    txt = txt.replace('\\xa0',' ').replace('Â\\xa0',' ').replace('Â','')\n",
    "    return txt"
   ]
  },
  {
   "cell_type": "code",
   "execution_count": 10,
   "metadata": {
    "collapsed": false
   },
   "outputs": [],
   "source": [
    "def get_sub_before_first_comma(txt):\n",
    "        txt = txt + ','\n",
    "        l = txt[0:txt.find(',')].strip()\n",
    "        try:\n",
    "            l.remove(\"\")\n",
    "        except: None\n",
    "        return l"
   ]
  },
  {
   "cell_type": "code",
   "execution_count": 11,
   "metadata": {
    "collapsed": false
   },
   "outputs": [],
   "source": [
    "def split_html_string(txt):\n",
    "    odor_descr_str = txt.replace('Â\\xa0Â\\xa0',',').replace('Â\\xa0Â','').replace('Â','')\n",
    "    odor_descr_list = odor_descr_str.split(',')\n",
    "    try:\n",
    "        odor_descr_list.remove(\"\")\n",
    "    except ValueError: None\n",
    "    return odor_descr_list\n",
    "    "
   ]
  },
  {
   "cell_type": "code",
   "execution_count": 12,
   "metadata": {
    "collapsed": true
   },
   "outputs": [],
   "source": [
    "def get_substantivity(txt):\n",
    "    txt = txt[0:txt.lower().find('hour(s)')].strip()\n",
    "    return txt"
   ]
  },
  {
   "cell_type": "code",
   "execution_count": 13,
   "metadata": {
    "collapsed": true
   },
   "outputs": [],
   "source": [
    "import re\n",
    "def get_numeric_value(txt):\n",
    "    txt = re.findall(r'[0-9.]',txt)\n",
    "    txt = ''.join(txt)\n",
    "    return ''.join(txt)\n",
    "    "
   ]
  },
  {
   "cell_type": "code",
   "execution_count": 14,
   "metadata": {
    "collapsed": true
   },
   "outputs": [],
   "source": [
    "def get_filename(url,folder):\n",
    "    return folder + '/' + url[url.rfind('/')+1:url.rfind('.')] + '.json'"
   ]
  },
  {
   "cell_type": "code",
   "execution_count": 15,
   "metadata": {
    "collapsed": true
   },
   "outputs": [],
   "source": [
    "def get_min_value(txt):\n",
    "    txt = txt.replace('Â','')\n",
    "    txt = txt.split(' ')\n",
    "    txt = txt[0].replace(' to','').replace('>','').replace('<','')\n",
    "    return txt  "
   ]
  },
  {
   "cell_type": "code",
   "execution_count": 16,
   "metadata": {
    "collapsed": false
   },
   "outputs": [],
   "source": [
    "def get_flash_point_celsium(txt):\n",
    "    txt = txt.split('Â')\n",
    "    txt = txt[4].replace('(','').replace(' ','').replace('>','').replace('<','')\n",
    "    return txt\n",
    "    "
   ]
  },
  {
   "cell_type": "code",
   "execution_count": 17,
   "metadata": {
    "collapsed": true
   },
   "outputs": [],
   "source": [
    "def get_logP(txt):\n",
    "    txt = txt.replace('(est)','').replace(' ','')\n",
    "    return txt"
   ]
  },
  {
   "cell_type": "code",
   "execution_count": 18,
   "metadata": {
    "collapsed": false,
    "scrolled": false
   },
   "outputs": [
    {
     "name": "stdout",
     "output_type": "stream",
     "text": [
      "http://www.thegoodscentscompany.com/fragonly-a.html\n",
      "    http://www.thegoodscentscompany.com/data/co1067571.html\n",
      "    http://www.thegoodscentscompany.com/data/rw1537431.html\n",
      "    http://www.thegoodscentscompany.com/data/rw1003241.html\n",
      "    http://www.thegoodscentscompany.com/data/rw1004091.html\n",
      "    http://www.thegoodscentscompany.com/data/es1052621.html\n",
      "    http://www.thegoodscentscompany.com/data/ab1657301.html\n",
      "    http://www.thegoodscentscompany.com/data/co1657731.html\n",
      "    http://www.thegoodscentscompany.com/data/rw1056571.html\n",
      "    http://www.thegoodscentscompany.com/data/ab1092781.html\n",
      "http://www.thegoodscentscompany.com/fragonly-b.html\n",
      "    http://www.thegoodscentscompany.com/data/rw1464061.html\n",
      "    http://www.thegoodscentscompany.com/data/rw1464271.html\n",
      "    http://www.thegoodscentscompany.com/data/rw1412231.html\n",
      "    http://www.thegoodscentscompany.com/data/rw1122951.html\n",
      "    http://www.thegoodscentscompany.com/data/rw1123231.html\n",
      "    http://www.thegoodscentscompany.com/data/ex1022771.html\n",
      "    http://www.thegoodscentscompany.com/data/rw1399411.html\n",
      "    http://www.thegoodscentscompany.com/data/es1612991.html\n",
      "    http://www.thegoodscentscompany.com/data/rw1045241.html\n",
      "    http://www.thegoodscentscompany.com/data/rw1462321.html\n",
      "http://www.thegoodscentscompany.com/fragonly-c.html\n",
      "    http://www.thegoodscentscompany.com/data/rw1607841.html\n",
      "    http://www.thegoodscentscompany.com/data/es1613181.html\n",
      "    http://www.thegoodscentscompany.com/data/es1547221.html\n",
      "    http://www.thegoodscentscompany.com/data/es1613191.html\n",
      "    http://www.thegoodscentscompany.com/data/ex1092481.html\n",
      "    http://www.thegoodscentscompany.com/data/rw1560121.html\n",
      "    http://www.thegoodscentscompany.com/data/rw1451641.html\n",
      "    http://www.thegoodscentscompany.com/data/rw1001321.html\n",
      "    http://www.thegoodscentscompany.com/data/ex1389101.html\n",
      "    http://www.thegoodscentscompany.com/data/ex1547211.html\n",
      "    http://www.thegoodscentscompany.com/data/ex1547231.html\n",
      "    http://www.thegoodscentscompany.com/data/ex1547281.html\n",
      "    http://www.thegoodscentscompany.com/data/ex1547301.html\n",
      "    http://www.thegoodscentscompany.com/data/ex1386481.html\n",
      "    http://www.thegoodscentscompany.com/data/ex1547321.html\n",
      "    http://www.thegoodscentscompany.com/data/es1547331.html\n",
      "    http://www.thegoodscentscompany.com/data/rw1462641.html\n",
      "    http://www.thegoodscentscompany.com/data/rw1426941.html\n",
      "    http://www.thegoodscentscompany.com/data/es1013331.html\n",
      "    http://www.thegoodscentscompany.com/data/rw1230781.html\n",
      "    http://www.thegoodscentscompany.com/data/ex1390771.html\n",
      "    http://www.thegoodscentscompany.com/data/rw1663001.html\n",
      "    http://www.thegoodscentscompany.com/data/rw1662991.html\n",
      "    http://www.thegoodscentscompany.com/data/es1615361.html\n",
      "    http://www.thegoodscentscompany.com/data/es1616251.html\n",
      "http://www.thegoodscentscompany.com/fragonly-d.html\n",
      "    http://www.thegoodscentscompany.com/data/rw1018121.html\n",
      "    http://www.thegoodscentscompany.com/data/es1547041.html\n",
      "    http://www.thegoodscentscompany.com/data/rw1603451.html\n",
      "    http://www.thegoodscentscompany.com/data/rw1590621.html\n",
      "    http://www.thegoodscentscompany.com/data/rw1364551.html\n",
      "    http://www.thegoodscentscompany.com/data/rw1420291.html\n",
      "    http://www.thegoodscentscompany.com/data/rw1423471.html\n",
      "    http://www.thegoodscentscompany.com/data/rw1597801.html\n",
      "    http://www.thegoodscentscompany.com/data/rw1615431.html\n",
      "    http://www.thegoodscentscompany.com/data/rw1052851.html\n",
      "    http://www.thegoodscentscompany.com/data/rw1584331.html\n",
      "    http://www.thegoodscentscompany.com/data/rw1584321.html\n",
      "    http://www.thegoodscentscompany.com/data/rw1242151.html\n",
      "http://www.thegoodscentscompany.com/fragonly-e.html\n",
      "    http://www.thegoodscentscompany.com/data/rw1245061.html\n",
      "    http://www.thegoodscentscompany.com/data/rw1426461.html\n",
      "http://www.thegoodscentscompany.com/fragonly-f.html\n",
      "http://www.thegoodscentscompany.com/fragonly-g.html\n",
      "    http://www.thegoodscentscompany.com/data/es1030371.html\n",
      "    http://www.thegoodscentscompany.com/data/rw1489961.html\n",
      "    http://www.thegoodscentscompany.com/data/es1613631.html\n",
      "http://www.thegoodscentscompany.com/fragonly-h.html\n",
      "    http://www.thegoodscentscompany.com/data/ab1053571.html\n",
      "    http://www.thegoodscentscompany.com/data/rw1691031.html\n",
      "    http://www.thegoodscentscompany.com/data/rw1046821.html\n",
      "    http://www.thegoodscentscompany.com/data/rw1527591.html\n",
      "    http://www.thegoodscentscompany.com/data/rw1037451.html\n",
      "    http://www.thegoodscentscompany.com/data/rw1600381.html\n",
      "    http://www.thegoodscentscompany.com/data/rw1447681.html\n",
      "http://www.thegoodscentscompany.com/fragonly-i.html\n",
      "    http://www.thegoodscentscompany.com/data/ex1396241.html\n",
      "http://www.thegoodscentscompany.com/fragonly-jk.html\n",
      "http://www.thegoodscentscompany.com/fragonly-l.html\n",
      "    http://www.thegoodscentscompany.com/data/ex1397371.html\n",
      "    http://www.thegoodscentscompany.com/data/ex1397551.html\n",
      "    http://www.thegoodscentscompany.com/data/rw1572751.html\n",
      "    http://www.thegoodscentscompany.com/data/rw1030591.html\n",
      "    http://www.thegoodscentscompany.com/data/es1649541.html\n",
      "    http://www.thegoodscentscompany.com/data/ex1320031.html\n",
      "http://www.thegoodscentscompany.com/fragonly-m.html\n",
      "    http://www.thegoodscentscompany.com/data/es1103881.html\n",
      "    http://www.thegoodscentscompany.com/data/rw1436181.html\n",
      "    http://www.thegoodscentscompany.com/data/rw1107951.html\n",
      "    http://www.thegoodscentscompany.com/data/rw1670011.html\n",
      "    http://www.thegoodscentscompany.com/data/rw1376331.html\n",
      "    http://www.thegoodscentscompany.com/data/rw1537561.html\n",
      "    http://www.thegoodscentscompany.com/data/rw1031981.html\n",
      "    http://www.thegoodscentscompany.com/data/es1375921.html\n",
      "    http://www.thegoodscentscompany.com/data/ex1399721.html\n",
      "http://www.thegoodscentscompany.com/fragonly-n.html\n",
      "    http://www.thegoodscentscompany.com/data/es1614051.html\n",
      "    http://www.thegoodscentscompany.com/data/rw1384071.html\n",
      "    http://www.thegoodscentscompany.com/data/rw1045361.html\n",
      "http://www.thegoodscentscompany.com/fragonly-o.html\n",
      "    http://www.thegoodscentscompany.com/data/ex1695721.html\n",
      "    http://www.thegoodscentscompany.com/data/ex1614741.html\n",
      "    http://www.thegoodscentscompany.com/data/ex1695981.html\n",
      "    http://www.thegoodscentscompany.com/data/rw1557661.html\n",
      "    http://www.thegoodscentscompany.com/data/rw1452111.html\n",
      "    http://www.thegoodscentscompany.com/data/rw1048241.html\n",
      "    http://www.thegoodscentscompany.com/data/pb1110611.html\n",
      "    http://www.thegoodscentscompany.com/data/rs1676011.html\n",
      "    http://www.thegoodscentscompany.com/data/ex1400851.html\n",
      "http://www.thegoodscentscompany.com/fragonly-p.html\n",
      "    http://www.thegoodscentscompany.com/data/rw1460311.html\n",
      "    http://www.thegoodscentscompany.com/data/rw1415721.html\n",
      "    http://www.thegoodscentscompany.com/data/rw1437701.html\n",
      "    http://www.thegoodscentscompany.com/data/es1614991.html\n",
      "    http://www.thegoodscentscompany.com/data/ex1612691.html\n",
      "    http://www.thegoodscentscompany.com/data/es1615001.html\n",
      "    http://www.thegoodscentscompany.com/data/ex1402261.html\n",
      "    http://www.thegoodscentscompany.com/data/es1615151.html\n",
      "    http://www.thegoodscentscompany.com/data/ex1615161.html\n",
      "    http://www.thegoodscentscompany.com/data/rw1445691.html\n",
      "    http://www.thegoodscentscompany.com/data/rw1049791.html\n",
      "    http://www.thegoodscentscompany.com/data/es1615211.html\n",
      "    http://www.thegoodscentscompany.com/data/es1671531.html\n",
      "    http://www.thegoodscentscompany.com/data/es1671541.html\n",
      "http://www.thegoodscentscompany.com/fragonly-q.html\n",
      "http://www.thegoodscentscompany.com/fragonly-r.html\n",
      "    http://www.thegoodscentscompany.com/data/ab1592121.html\n",
      "    http://www.thegoodscentscompany.com/data/rw1525451.html\n",
      "    http://www.thegoodscentscompany.com/data/es1615281.html\n",
      "http://www.thegoodscentscompany.com/fragonly-s.html\n",
      "    http://www.thegoodscentscompany.com/data/ex1043301.html\n",
      "    http://www.thegoodscentscompany.com/data/ex1616241.html\n",
      "    http://www.thegoodscentscompany.com/data/ex1613681.html\n",
      "http://www.thegoodscentscompany.com/fragonly-t.html\n",
      "    http://www.thegoodscentscompany.com/data/ex1058671.html\n",
      "    http://www.thegoodscentscompany.com/data/es1614061.html\n",
      "    http://www.thegoodscentscompany.com/data/rw1424681.html\n",
      "    http://www.thegoodscentscompany.com/data/es1614711.html\n",
      "    http://www.thegoodscentscompany.com/data/es1002491.html\n",
      "http://www.thegoodscentscompany.com/fragonly-u.html\n",
      "http://www.thegoodscentscompany.com/fragonly-v.html\n",
      "    http://www.thegoodscentscompany.com/data/ex1662921.html\n",
      "http://www.thegoodscentscompany.com/fragonly-wx.html\n",
      "http://www.thegoodscentscompany.com/fragonly-y.html\n",
      "    http://www.thegoodscentscompany.com/data/es1370641.html\n",
      "http://www.thegoodscentscompany.com/fragonly-z.html\n"
     ]
    }
   ],
   "source": [
    "import pandas as pd\n",
    "import unidecode\n",
    "import json\n",
    "import numpy as np\n",
    "\n",
    "http = PoolManager()\n",
    "tgsc_component = {}\n",
    "\n",
    "for url in alpha_urls:\n",
    "    print(url)\n",
    "\n",
    "    #tgsc_component = {}\n",
    "    xhtml = get_xhtml(url,http)\n",
    "    component_table = xhtml.xpath(\"/html//table[1]\")[0]\n",
    "    for component in component_table.getiterator():\n",
    "        #print('    ' + str(component))\n",
    "       \n",
    "        if component.attrib.has_key('href'):\n",
    "            #print('    ' + component.values()[0])\n",
    "            c_url = component.values()[0]\n",
    "            c_xhtml = get_xhtml(c_url,http)\n",
    "            component_dict = {}\n",
    "            name = c_xhtml.find(\".//title\").text\n",
    "            component_dict['name'] = clean_string(name) #.replace('\\xa0',' ').replace('Â\\xa0',' ')\n",
    "            for section in c_xhtml.xpath('//table[@id=\"chemdata\"]'):\n",
    "                #print(section)\n",
    "                df_main = pd.DataFrame()\n",
    "                \n",
    "                try:\n",
    "                    df_main = pd.read_html(io=etree.tostring(section, encoding='utf-8'))[0]\n",
    "                except: \n",
    "                    print('    ' + c_url)\n",
    "                    raise Exception(\"Convert to Pandas Error\")\n",
    "                    \n",
    "                df_main.columns = ['property', 'value']\n",
    "                try:\n",
    "                    iupac = df_main[df_main[\"property\"] == \"IUPAC Name:\"][\"value\"].values[0]\n",
    "                    component_dict['iupac'] = clean_string(iupac) #.replace('\\xa0',' ').replace('Â\\xa0',' ')\n",
    "                except IndexError: None\n",
    "                try:\n",
    "                    full_name = df_main[df_main[\"property\"] == \"Name:\"][\"value\"].values[0]\n",
    "                    component_dict['full_name'] = clean_string(full_name) #.replace('\\xa0',' ').replace('Â\\xa0',' ')\n",
    "                except IndexError: None\n",
    "                try:\n",
    "                    cas = df_main[df_main[\"property\"] == \"CAS Number:\"][\"value\"].values[0]\n",
    "                    component_dict['cas'] = clean_string(cas) #.replace('\\xa0',' ').replace('Â\\xa0',' ')\n",
    "                except IndexError: None\n",
    "            sectionclass = c_xhtml.xpath(\"//div[@class='sectionclass']\")\n",
    "            for s in sectionclass:\n",
    "                #print(s.text)\n",
    "                if s.text == \"Physical Properties: \":\n",
    "                    #print(s.getnext())\n",
    "                    df_phy = pd.DataFrame()\n",
    "                    df_phy = pd.read_html(io=etree.tostring(s.getnext(), encoding='utf-8'))[0]\n",
    "                    if len(df_phy) > 1:\n",
    "                        df_phy.columns = ['property', 'value']\n",
    "                        try:\n",
    "                            specific_gravity = df_phy[df_phy[\"property\"] == \"Specific Gravity:\"][\"value\"].values[0]\n",
    "                            #print(\"specific_gravity=\" + specific_gravity)\n",
    "                            #print(\"specific_gravity=\" + get_min_value(specific_gravity))\n",
    "                            component_dict['specific_gravity'] = get_min_value(clean_string(specific_gravity)) #.replace('\\xa0',' ').replace('Â\\xa0',' ')\n",
    "                        except IndexError: None\n",
    "                        try:\n",
    "                            boiling_point = df_phy[df_phy[\"property\"] == \"Boiling Point:\"][\"value\"].values[0]\n",
    "                            #print(\"boiling_point=\" + boiling_point)\n",
    "                            #print(\"boiling_point=\" + get_min_value(clean_string(boiling_point)))\n",
    "                            component_dict['boiling_point'] = get_min_value(clean_string(boiling_point)) #.replace('\\xa0',' ').replace('Â\\xa0',' ')\n",
    "                        except IndexError: None\n",
    "                        try:\n",
    "                            refractive_index = df_phy[df_phy[\"property\"] == \"Refractive Index:\"][\"value\"].values[0]\n",
    "                            #print(\"refractive_index=\" + refractive_index)\n",
    "                            #print(\"refractive_index=\" + get_min_value(refractive_index))\n",
    "                            component_dict['refractive_index'] = get_min_value(clean_string(refractive_index)) #.replace('\\xa0',' ').replace('Â\\xa0',' ')\n",
    "                        except IndexError: None\n",
    "                        try:\n",
    "                            flash_point = df_phy[df_phy[\"property\"] == \"Flash Point:\"][\"value\"].values[0]\n",
    "                            #print(\"flash_point=\" + flash_point)\n",
    "                            #print(\"flash_point=\" + get_numeric_value(get_flash_point_celsium(flash_point)))\n",
    "                            if str(flash_point) != 'nan':\n",
    "                                component_dict['flash_point'] = get_numeric_value(get_flash_point_celsium(flash_point)) #.replace('\\xa0',' ').replace('Â\\xa0',' ')\n",
    "                        except IndexError: None\n",
    "                        try:\n",
    "                            logP = df_phy[df_phy[\"property\"] == \"logP (o/w):\"][\"value\"].values[0]\n",
    "                            #print(\"logP=\" + logP)\n",
    "                            #print(\"logP=\" + get_logP(logP))\n",
    "                            component_dict['logP'] = get_logP(clean_string(logP)) #.replace('\\xa0',' ').replace('Â\\xa0',' ')\n",
    "                        except IndexError: None\n",
    "    \n",
    "                if s.text == \"Organoleptic Properties: \":\n",
    "                    #print(s.getnext())\n",
    "                    df_org = pd.DataFrame()\n",
    "                    df_org = pd.read_html(io=etree.tostring(s.getnext(), encoding='utf-8'))[0]\n",
    "                    if len(df_org) > 1:\n",
    "                        df_org.columns = ['property', 'value']\n",
    "                        try:\n",
    "                            odor_type = df_org[df_org[\"property\"] == \"Odor Type:\"][\"value\"].values[0]\n",
    "                            #print(odor_type)\n",
    "                            component_dict['odor_type'] = clean_string(odor_type) #.replace('\\xa0',' ').replace('Â\\xa0',' ')\n",
    "                        except IndexError: None\n",
    "                        try:\n",
    "                            #odor_type = df[df[\"property\"] == \"Odor Type:\"][\"value\"].values[0]\n",
    "                            odor_strength = df_org[df_org[\"property\"] == \"Odor Strength:\"][\"value\"].values[0]\n",
    "                            #print(odor_strength)\n",
    "                            #print(clean_string(get_sub_before_first_comma(odor_strength)))\n",
    "                            component_dict['odor_strength'] = clean_string(get_sub_before_first_comma(odor_strength)) #.replace('\\xa0',' ').replace('Â\\xa0',' ')\n",
    "                            #component_dict['odor_strength'] = odor_strength\n",
    "                        except IndexError: None\n",
    "                        try:\n",
    "                            odor_description = split_html_string(df_org['value'][2])\n",
    "                            if len(odor_description) > 0:\n",
    "                                component_dict['odor_description'] = odor_description\n",
    "                        except IndexError: None\n",
    "                        except KeyError: print('    ' + c_url)\n",
    "                        try:\n",
    "                            odor_substantivity = df_org[df_org[\"property\"] == \"Substantivity:\"][\"value\"].values[0]\n",
    "                            try:\n",
    "                                odor_substantivity = get_numeric_value(clean_string(odor_substantivity))\n",
    "                                component_dict['odor_substantivity'] = get_substantivity(odor_substantivity)\n",
    "\n",
    "                            except AttributeError: None\n",
    "                        except IndexError: None\n",
    "            tgsc_component[c_url] = component_dict\n",
    "            #filename = get_filename(url,datafolder)\n",
    "\n",
    "with open(filename, 'w') as outfile:\n",
    "    json.dump(tgsc_component, outfile)\n"
   ]
  },
  {
   "cell_type": "code",
   "execution_count": null,
   "metadata": {
    "collapsed": false
   },
   "outputs": [],
   "source": [
    "df_phy.head(10)"
   ]
  },
  {
   "cell_type": "code",
   "execution_count": null,
   "metadata": {
    "collapsed": false,
    "scrolled": true
   },
   "outputs": [],
   "source": [
    "tgsc_component"
   ]
  },
  {
   "cell_type": "code",
   "execution_count": null,
   "metadata": {
    "collapsed": true
   },
   "outputs": [],
   "source": []
  }
 ],
 "metadata": {
  "kernelspec": {
   "display_name": "Python 3",
   "language": "python",
   "name": "python3"
  },
  "language_info": {
   "codemirror_mode": {
    "name": "ipython",
    "version": 3
   },
   "file_extension": ".py",
   "mimetype": "text/x-python",
   "name": "python",
   "nbconvert_exporter": "python",
   "pygments_lexer": "ipython3",
   "version": "3.4.1"
  }
 },
 "nbformat": 4,
 "nbformat_minor": 0
}
