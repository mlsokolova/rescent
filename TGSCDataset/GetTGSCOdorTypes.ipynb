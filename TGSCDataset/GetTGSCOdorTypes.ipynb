{
 "cells": [
  {
   "cell_type": "code",
   "execution_count": 7,
   "metadata": {
    "collapsed": false
   },
   "outputs": [],
   "source": [
    "from urllib3 import PoolManager\n",
    "from lxml import etree\n",
    "def get_source_page(url, http):\n",
    "    #http = PoolManager()\n",
    "    response = http.request('GET',url)\n",
    "    source_page = response.read()\n",
    "    return source_page"
   ]
  },
  {
   "cell_type": "code",
   "execution_count": 8,
   "metadata": {
    "collapsed": true
   },
   "outputs": [],
   "source": [
    "def get_xhtml(url,pool):\n",
    "    with pool.urlopen('GET',url, preload_content=False) as f:\n",
    "        tree = etree.parse(f, parser)\n",
    "    return tree"
   ]
  },
  {
   "cell_type": "code",
   "execution_count": 9,
   "metadata": {
    "collapsed": false
   },
   "outputs": [],
   "source": [
    "url = 'http://www.thegoodscentscompany.com/allodor.html'\n",
    "filename = \"/home/masha/scent_datasets/tgsc1/odor_types.json\"\n",
    "parser = etree.HTMLParser()\n",
    "http = PoolManager()\n",
    "xhtml = get_xhtml(url,http)\n",
    "#source_page = response.read()\n",
    "#data = str(response.data)"
   ]
  },
  {
   "cell_type": "code",
   "execution_count": 10,
   "metadata": {
    "collapsed": false
   },
   "outputs": [],
   "source": [
    "type_table = xhtml.xpath(\"/html//table[1]\")[0]\n",
    "odor_types = {}\n",
    "for c in type_table.getiterator():\n",
    "    type_dict = {}\n",
    "    if c.attrib.has_key('href'):\n",
    "     type_url = c.values()[0]\n",
    "     type_dict['url'] = type_url\n",
    "     odor_types[c.text]=type_dict\n",
    "        \n",
    "    "
   ]
  },
  {
   "cell_type": "code",
   "execution_count": 11,
   "metadata": {
    "collapsed": false
   },
   "outputs": [],
   "source": [
    "import json\n",
    "with open(filename, 'w') as outfile:\n",
    "    json.dump(odor_types, outfile)"
   ]
  },
  {
   "cell_type": "code",
   "execution_count": null,
   "metadata": {
    "collapsed": true
   },
   "outputs": [],
   "source": []
  }
 ],
 "metadata": {
  "kernelspec": {
   "display_name": "Python 3",
   "language": "python",
   "name": "python3"
  },
  "language_info": {
   "codemirror_mode": {
    "name": "ipython",
    "version": 3
   },
   "file_extension": ".py",
   "mimetype": "text/x-python",
   "name": "python",
   "nbconvert_exporter": "python",
   "pygments_lexer": "ipython3",
   "version": "3.4.1"
  }
 },
 "nbformat": 4,
 "nbformat_minor": 0
}
